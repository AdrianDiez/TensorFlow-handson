{
 "cells": [
  {
   "cell_type": "markdown",
   "metadata": {},
   "source": [
    "# Introduction to TensorFlow \n",
    "---\n",
    "\n",
    "Code and examples have been extracted from the following sources\n",
    " - Hands-On Machine Learning with Scikit-Learn and TensorFlow: Concepts, Tools, and Techniques to Build Intelligent Systems, Géron A, 2017\n",
    "\n",
    "- Natural Language Processing with TensorFlow Teach language to machines using Python's deep learning library, Ganegedara T, 2018\n",
    "\n",
    "\n",
    "---\n",
    "\n",
    "### Introduction\n",
    "\n",
    "Tensorflow is an open source library developed by Google Brain in order to perform numerical computations. Particularly, it is useful for performing large scale automatic differentiation.\n",
    "\n",
    "Its logic is simple: first it defines a computational graph, then, Tensorflow distributes and runs the operations efficiently using optimized C++ code. \n",
    "\n",
    "Tensorflow supports distributed computations---multiple cpus, multiple gpus---therefore, it can train neural nets with millions of parameters in a reasonable amount of time. \n",
    "\n",
    "Tensorflow's source code is available at:  [Tensorflow project repository](https://github.com/tensorflow/tensorflow)\n",
    "\n",
    "\n",
    "### Components \n",
    "\n",
    "* **Graph** This object contains the computational graph that connects the input and output nodes across the different operations to execute. The graph determines the flow and order of data. It stores relevant information such as the dependencies of each node and their respective order and place. \n",
    "\n",
    "* **Session** The session is in charge of starting the execution graph. Behind the scenes, the session sends the graph definition `tf.GraphDef` as an execution protocol buffer to the distributed *Master*. \n",
    "\n",
    "* **Master** The master surveys the graph, it subdivies it into smaller tasks---made up of instructions and operations---and distribute them across *worker* nodes. \n",
    "\n",
    "* **Worker** Are the nodes in charge of executing the tasks assigned by the *Master*; there are two types of workers:\n",
    "\n",
    "     * **Operation Server** It's the node in charge of performing the assigned operations. \n",
    "     * **Parameter Server** These nodes store the necessary parameters for each operation and update their status after these have been performed. \n",
    "    \n",
    "\n",
    "![alt text](./imgs/execTF.png \"Ejecución proceso en TF\")\n",
    "\n",
    "\n",
    "![alt text](./imgs/operationParameter.png \"Nodos de operación y de parámetros\")\n",
    "\n",
    "### Cafe Metaphor\n",
    "\n",
    "In order to understand the role of each component within Tensorflow, it is useful to think about a restaurant or café. Let us suppose that we are about to order a hamburger in a restaurant. The hamburger we have in mind is the equivalent to the computational graph. The waiter is the equivalent to the session: he knows what should be executed and registers the specifics of the order. In this sense, the order represents the graph definition *GraphDef*. The kitchen manager, the *Master*, takes the order and assigns the different tasks to the different chefs and cooks. The chef (operation node) tells the cook what is needed to be done and the cook (the parameter node) looks for the ingredients in order for the chef to have them nearby. \n",
    "\n",
    "\n",
    "![alt text](./imgs/cafeteria.png \"Operation nodes and parameter nodes\")\n",
    "\n",
    "### Logistic example\n",
    "\n",
    "Import libraries\n",
    "\n",
    "\n"
   ]
  },
  {
   "cell_type": "code",
   "execution_count": 1,
   "metadata": {},
   "outputs": [],
   "source": [
    "import numpy as np\n",
    "import tensorflow as tf"
   ]
  },
  {
   "cell_type": "markdown",
   "metadata": {},
   "source": [
    "Initialize graph and session"
   ]
  },
  {
   "cell_type": "code",
   "execution_count": 2,
   "metadata": {},
   "outputs": [],
   "source": [
    "graph = tf.Graph() \n",
    "session = tf.InteractiveSession(graph=graph) "
   ]
  },
  {
   "cell_type": "markdown",
   "metadata": {},
   "source": [
    "Define a *placeholder* as a node for the introduction of inputs"
   ]
  },
  {
   "cell_type": "code",
   "execution_count": 3,
   "metadata": {},
   "outputs": [],
   "source": [
    "x = tf.placeholder(shape=[1,10], dtype=tf.float32, name='x') "
   ]
  },
  {
   "cell_type": "markdown",
   "metadata": {},
   "source": [
    "Define variables to perform operations"
   ]
  },
  {
   "cell_type": "code",
   "execution_count": 4,
   "metadata": {},
   "outputs": [],
   "source": [
    "W = tf.Variable(tf.random_uniform(shape=[10,5], minval=-0.1, \n",
    "                                  maxval=0.1, \n",
    "                                  dtype=tf.float32), \n",
    "                name='W')\n",
    "b = tf.Variable(tf.zeros(shape=[5], dtype=tf.float32),\n",
    "                name='b')  \n",
    "h = tf.nn.sigmoid(tf.matmul(x, W) + b)"
   ]
  },
  {
   "cell_type": "markdown",
   "metadata": {},
   "source": [
    "Initialize variables and start node execution"
   ]
  },
  {
   "cell_type": "code",
   "execution_count": 5,
   "metadata": {},
   "outputs": [],
   "source": [
    "tf.global_variables_initializer().run()"
   ]
  },
  {
   "cell_type": "markdown",
   "metadata": {},
   "source": [
    "Perform operations supplying the value of x for the session"
   ]
  },
  {
   "cell_type": "code",
   "execution_count": 6,
   "metadata": {},
   "outputs": [],
   "source": [
    "h_eval = session.run(h, feed_dict={x: np.random.rand(1, 10)})"
   ]
  },
  {
   "cell_type": "code",
   "execution_count": 7,
   "metadata": {},
   "outputs": [
    {
     "name": "stdout",
     "output_type": "stream",
     "text": [
      "[[0.5053216  0.466581   0.51042956 0.50397724 0.46911782]]\n"
     ]
    }
   ],
   "source": [
    "print(h_eval)"
   ]
  },
  {
   "cell_type": "code",
   "execution_count": 8,
   "metadata": {},
   "outputs": [],
   "source": [
    "session.close()"
   ]
  },
  {
   "cell_type": "markdown",
   "metadata": {},
   "source": [
    "![alt text](./imgs/variableTypes.png \"Nodos de operación y de parámetros\")"
   ]
  },
  {
   "cell_type": "markdown",
   "metadata": {},
   "source": [
    "### Starting over from scratch\n",
    "\n",
    "It is critical to understand the role of each component within the execution graph. Thus in the following sections we'll carry out some examples with increasing complexity until we get to build complex neural nets. Thus let us begin by computing the following function: \n",
    "\n",
    "\n",
    "<center>$f(x) = x^2y + y + 2$</center>\n",
    "\n",
    "\n",
    "Variable definition"
   ]
  },
  {
   "cell_type": "code",
   "execution_count": 9,
   "metadata": {},
   "outputs": [],
   "source": [
    "x = tf.Variable(3, name=\"x\" ) \n",
    "y = tf.Variable(4, name=\"y\" ) \n",
    "f = x*x*y + y + 2"
   ]
  },
  {
   "cell_type": "markdown",
   "metadata": {},
   "source": [
    "It is important to remember that this code doesn't perform any operation yet. The variables haven't even been initialized. In order to do this, we need to instantiate a session. "
   ]
  },
  {
   "cell_type": "code",
   "execution_count": 10,
   "metadata": {},
   "outputs": [],
   "source": [
    "sess = tf.Session() \n",
    "sess.run(x.initializer)\n",
    "sess.run(y.initializer)"
   ]
  },
  {
   "cell_type": "markdown",
   "metadata": {},
   "source": [
    "Now we can execute the task"
   ]
  },
  {
   "cell_type": "code",
   "execution_count": 11,
   "metadata": {},
   "outputs": [
    {
     "name": "stdout",
     "output_type": "stream",
     "text": [
      "42\n"
     ]
    }
   ],
   "source": [
    "result = sess.run(f)\n",
    "print(result)"
   ]
  },
  {
   "cell_type": "code",
   "execution_count": 12,
   "metadata": {},
   "outputs": [],
   "source": [
    "sess.close()"
   ]
  },
  {
   "cell_type": "markdown",
   "metadata": {},
   "source": [
    "If we want to avoid calling each initializer separately:"
   ]
  },
  {
   "cell_type": "code",
   "execution_count": null,
   "metadata": {},
   "outputs": [],
   "source": [
    "init = tf.global_variables_initializer()\n",
    "with tf.Session() as sess:\n",
    "    init.run()\n",
    "    result = f.eval()  # sess.run(f) \n",
    "    print(result)"
   ]
  },
  {
   "cell_type": "markdown",
   "metadata": {},
   "source": [
    "This code is equivalent to the follwing:"
   ]
  },
  {
   "cell_type": "code",
   "execution_count": 13,
   "metadata": {},
   "outputs": [
    {
     "name": "stdout",
     "output_type": "stream",
     "text": [
      "42\n"
     ]
    }
   ],
   "source": [
    "with tf.Session() as sess:\n",
    "    x.initializer.run()  # same as tf.get_default_session().run(x.initializer)\n",
    "    y.initializer.run()  # same as tf.get_default_session().run(y.initializer)\n",
    "    result = f.eval()  # same as tf.get_default_session().run(f)\n",
    "    print(result)"
   ]
  },
  {
   "cell_type": "code",
   "execution_count": 14,
   "metadata": {},
   "outputs": [
    {
     "name": "stdout",
     "output_type": "stream",
     "text": [
      "[8. 3.]\n"
     ]
    }
   ],
   "source": [
    "x = tf.Variable([2, 1], dtype=tf.float32, name='x')\n",
    "y = tf.Variable([4, 3], dtype=tf.float32, name='y')\n",
    "z = tf.multiply(x, y)\n",
    "init = tf.global_variables_initializer()\n",
    "with tf.Session() as sess:\n",
    "    init.run()\n",
    "    result = z.eval()\n",
    "    print(result)"
   ]
  },
  {
   "cell_type": "markdown",
   "metadata": {},
   "source": [
    "### Graph scope"
   ]
  },
  {
   "cell_type": "code",
   "execution_count": 16,
   "metadata": {},
   "outputs": [
    {
     "name": "stdout",
     "output_type": "stream",
     "text": [
      "x1 in graph1: True\n",
      "x2 in graph2: True\n",
      "x1 in graph2: False\n"
     ]
    }
   ],
   "source": [
    "# We create two graphs\n",
    "graph1 = tf.Graph()\n",
    "graph2 = tf.Graph()\n",
    "# A session per graph\n",
    "with tf.Session(graph=graph1) as sess1:\n",
    "    x1 = tf.Variable(3)\n",
    "    \n",
    "with tf.Session(graph=graph2) as sess2:\n",
    "    x2 = tf.Variable(4)\n",
    "    \n",
    "print('''x1 in graph1: {val}'''.format(val=x1.graph is graph1))\n",
    "print('''x2 in graph2: {val}'''.format(val=x2.graph is graph2))\n",
    "print('''x1 in graph2: {val}'''.format(val=x1.graph is graph2))"
   ]
  },
  {
   "cell_type": "code",
   "execution_count": 17,
   "metadata": {},
   "outputs": [],
   "source": [
    "w = tf.constant(4)\n",
    "x = 5 + w\n",
    "y = x - 7\n",
    "z = y * x"
   ]
  },
  {
   "cell_type": "code",
   "execution_count": 18,
   "metadata": {},
   "outputs": [
    {
     "name": "stdout",
     "output_type": "stream",
     "text": [
      "2\n",
      "18\n"
     ]
    }
   ],
   "source": [
    "with tf.Session() as sess: \n",
    "    print(y.eval())\n",
    "    print(z.eval())"
   ]
  },
  {
   "cell_type": "markdown",
   "metadata": {},
   "source": [
    "The code is executed two times since the value of each node needs to be computed for each graph execution. In order to carry out this operation efficiently we need to compute z and y over the same graph. "
   ]
  },
  {
   "cell_type": "code",
   "execution_count": 19,
   "metadata": {},
   "outputs": [
    {
     "name": "stdout",
     "output_type": "stream",
     "text": [
      "2\n",
      "18\n"
     ]
    }
   ],
   "source": [
    "with tf.Session() as sess:\n",
    "    y_, z_ = sess.run([y, z])\n",
    "    print(y_)\n",
    "    print(z_)"
   ]
  },
  {
   "cell_type": "markdown",
   "metadata": {},
   "source": [
    "### Basic operations\n",
    "\n"
   ]
  },
  {
   "cell_type": "code",
   "execution_count": 22,
   "metadata": {},
   "outputs": [
    {
     "name": "stderr",
     "output_type": "stream",
     "text": [
      "/anaconda3/envs/nlpwts/lib/python3.6/site-packages/tensorflow/python/client/session.py:1645: UserWarning: An interactive session is already active. This can cause out-of-memory errors in some cases. You must explicitly call `InteractiveSession.close()` to release resources held by the other session(s).\n",
      "  warnings.warn('An interactive session is already active. This can '\n"
     ]
    }
   ],
   "source": [
    "graph = tf.Graph()\n",
    "sess = tf.InteractiveSession(graph=graph)"
   ]
  },
  {
   "cell_type": "markdown",
   "metadata": {},
   "source": [
    "two simple tensors"
   ]
  },
  {
   "cell_type": "code",
   "execution_count": 23,
   "metadata": {},
   "outputs": [],
   "source": [
    "x = tf.constant([[1, 2], [3, 4]], dtype=tf.float32)\n",
    "y = tf.constant([[4, 3], [3, 2]], dtype=tf.float32)"
   ]
  },
  {
   "cell_type": "code",
   "execution_count": 24,
   "metadata": {},
   "outputs": [],
   "source": [
    "x_plus_y = tf.add(x, y)\n",
    "x_mul_y = tf.matmul(x, y)  # Matrix product\n",
    "x_mule_y = tf.multiply(x, y)\n",
    "log_x = tf.log(x) \n",
    "x_equal_y = tf.equal(x, y)\n",
    "x_less_y = tf.less(x, y)\n",
    "x_great_eq_y = tf.greater_equal(x, y)"
   ]
  },
  {
   "cell_type": "markdown",
   "metadata": {},
   "source": [
    "Variable initialization and evaluation"
   ]
  },
  {
   "cell_type": "code",
   "execution_count": 25,
   "metadata": {},
   "outputs": [
    {
     "name": "stdout",
     "output_type": "stream",
     "text": [
      "Plus: [[5. 5.]\n",
      " [6. 6.]]\n",
      "Mul: [[10.  7.]\n",
      " [24. 17.]]\n",
      "Mule: [[4. 6.]\n",
      " [9. 8.]]\n",
      "Log: [[0.        0.6931472]\n",
      " [1.0986123 1.3862944]]\n",
      "Equal: [[False False]\n",
      " [ True False]]\n",
      "Less: [[ True  True]\n",
      " [False False]]\n",
      "Great: [[False False]\n",
      " [ True  True]]\n"
     ]
    }
   ],
   "source": [
    "tf.global_variables_initializer().run()\n",
    "x_plus_y_val = sess.run(x_plus_y)\n",
    "x_mul_y_val = sess.run(x_mul_y)\n",
    "x_mule_y_val = sess.run(x_mule_y)\n",
    "log_x_val = sess.run(log_x)\n",
    "x_equal_y_val = sess.run(x_equal_y)\n",
    "x_less_y_val = sess.run(x_less_y)\n",
    "x_great_eq_y_val = sess.run(x_great_eq_y)\n",
    "print('''Plus: {plus}'''.format(plus = x_plus_y_val))\n",
    "print('''Mul: {mul}'''.format(mul = x_mul_y_val))\n",
    "print('''Mule: {mule}'''.format(mule = x_mule_y_val))\n",
    "print('''Log: {log}'''.format(log = log_x_val))\n",
    "print('''Equal: {eq}'''.format(eq = x_equal_y_val))\n",
    "print('''Less: {less}'''.format(less =x_less_y_val))\n",
    "print('''Great: {gre}'''.format(gre =x_great_eq_y_val))\n",
    "sess.close()"
   ]
  },
  {
   "cell_type": "markdown",
   "metadata": {},
   "source": [
    "Filter and reduce type operations"
   ]
  },
  {
   "cell_type": "code",
   "execution_count": 26,
   "metadata": {},
   "outputs": [],
   "source": [
    "graph = tf.Graph()\n",
    "sess = tf.InteractiveSession(graph=graph)\n",
    "\n",
    "# x, y\n",
    "x = tf.constant([[1, 2], [3, 4]])\n",
    "y = tf.constant([[4, 3], [3, 2]])\n",
    "\n",
    "# Condition\n",
    "condition = tf.constant([[True, False], [True, False]],\n",
    "                        dtype=tf.bool)\n",
    "x_cond_y = tf.where(condition, x, y, name=None)\n",
    "\n",
    "# Sum reduction\n",
    "x_sum_0 = tf.reduce_sum(x,\n",
    "                        axis=[0],\n",
    "                        keepdims=False)\n",
    "x_sum_1 = tf.reduce_sum(x,\n",
    "                        axis=[1],\n",
    "                        keepdims=False)\n",
    "x_sum_2 = tf.reduce_sum(x, \n",
    "                       axis=[1],\n",
    "                       keepdims=True)\n"
   ]
  },
  {
   "cell_type": "markdown",
   "metadata": {},
   "source": [
    "Variable initialization and evaluation"
   ]
  },
  {
   "cell_type": "code",
   "execution_count": 27,
   "metadata": {},
   "outputs": [
    {
     "name": "stdout",
     "output_type": "stream",
     "text": [
      "Cond: [[1 3]\n",
      " [3 2]]\n",
      "Sum 0: [4 6]\n",
      "Sum 1: [3 7]\n",
      "Sum 2: [[3]\n",
      " [7]]\n"
     ]
    }
   ],
   "source": [
    "tf.global_variables_initializer().run()\n",
    "x_cond_y_val = sess.run(x_cond_y)\n",
    "x_sum_0_val = sess.run(x_sum_0)\n",
    "x_sum_1_val = sess.run(x_sum_1)\n",
    "x_sum_2_val = sess.run(x_sum_2)\n",
    "print('''Cond: {cond}'''.format(cond = x_cond_y_val))\n",
    "print('''Sum 0: {s0}'''.format(s0 = x_sum_0_val))\n",
    "print('''Sum 1: {s1}'''.format(s1 = x_sum_1_val))\n",
    "print('''Sum 2: {s2}'''.format(s2 = x_sum_2_val))\n",
    "sess.close()"
   ]
  },
  {
   "cell_type": "markdown",
   "metadata": {},
   "source": [
    "There are two additional operations: **gather** and **scatter**. These are relevant since until recent times they were the only way we could index tensors. Scatter allows a value to be assigned to a given group of indexes, gather obtains tensor 'slices'. \n"
   ]
  },
  {
   "cell_type": "code",
   "execution_count": 28,
   "metadata": {},
   "outputs": [],
   "source": [
    "graph = tf.Graph()\n",
    "sess = tf.InteractiveSession(graph=graph)\n",
    "\n",
    "# Scatter\n",
    "x = tf.Variable(tf.constant([1, 9, 3, 10, 5],\n",
    "                            dtype=tf.float32,\n",
    "                            name='satter_update'))\n",
    "indices = [1, 3]\n",
    "updates = tf.constant([2, 4],\n",
    "                      dtype=tf.float32)\n",
    "tf_scatter_update = tf.scatter_update(x,\n",
    "                                      indices,\n",
    "                                      updates,\n",
    "                                      use_locking=None,\n",
    "                                      name=None)\n",
    "\n",
    "\n",
    "indices = [[0], [1], [3]]\n",
    "updates = tf.constant([[0, 7, 0], [1, 1, 1], [2, 2, 2]])\n",
    "shape = [4, 3]\n",
    "tf_scatter_nd_2 = tf.scatter_nd(indices,\n",
    "                                updates,\n",
    "                                shape,\n",
    "                                name=None)\n",
    "\n",
    "# Gather\n",
    "\n",
    "# 1d\n",
    "params = tf.constant([1,2,3,4,5],dtype=tf.float32)\n",
    "indices = [1,4]\n",
    "tf_gather = tf.gather(params, indices, \n",
    "                      validate_indices=True, \n",
    "                      name=None)\n",
    "\n",
    "# Nd\n",
    "params = tf.constant([[0,0,0],[1,1,1],[2,2,2],[3,3,3]],dtype=tf. float32) \n",
    "indices = [[0],[2]] \n",
    "tf_gather_nd = tf.gather_nd(params, indices, name=None)"
   ]
  },
  {
   "cell_type": "markdown",
   "metadata": {},
   "source": [
    "Variable initialization and evaluation"
   ]
  },
  {
   "cell_type": "code",
   "execution_count": 29,
   "metadata": {},
   "outputs": [
    {
     "name": "stdout",
     "output_type": "stream",
     "text": [
      "Scatter 1: [1. 2. 3. 4. 5.]\n",
      "Scatter 2: [[0 7 0]\n",
      " [1 1 1]\n",
      " [0 0 0]\n",
      " [2 2 2]]\n",
      "Gather 1: [2. 5.]\n",
      "Gather 2: [[0. 0. 0.]\n",
      " [2. 2. 2.]]\n"
     ]
    }
   ],
   "source": [
    "tf.global_variables_initializer().run()\n",
    "tf_scatter_update_val = sess.run(tf_scatter_update)\n",
    "tf_scatter_nd_2_val = sess.run(tf_scatter_nd_2)\n",
    "tf_gather_val = sess.run(tf_gather)\n",
    "tf_gather_nd_val = sess.run(tf_gather_nd)\n",
    "print('''Scatter 1: {s1}'''.format(s1 = tf_scatter_update_val))\n",
    "print('''Scatter 2: {s2}'''.format(s2 = tf_scatter_nd_2_val))\n",
    "print('''Gather 1: {g1}'''.format(g1 = tf_gather_val))\n",
    "print('''Gather 2: {g2}'''.format(g2 = tf_gather_nd_val))\n",
    "sess.close()"
   ]
  },
  {
   "cell_type": "markdown",
   "metadata": {},
   "source": [
    "### Neural nets operations\n",
    "\n",
    "Besides the regular vector operations, Tensorflow also provides a suite of tensorlike operations for working over neural networks, for example: convolutions and pooling. \n",
    "\n",
    "![alt text](./imgs/convolution.png \"Convolucion\")\n",
    "![alt text](./imgs/pooling.png \"Convolucion\")\n"
   ]
  },
  {
   "cell_type": "code",
   "execution_count": 36,
   "metadata": {},
   "outputs": [],
   "source": [
    "graph = tf.Graph()\n",
    "sess = tf.InteractiveSession(graph=graph)"
   ]
  },
  {
   "cell_type": "markdown",
   "metadata": {},
   "source": [
    "The name of the function that performs the convolutions ```tf.nn.conv2d``` and its parameters are: *input*, *filter*, *strides* y *padding*. \n",
    "\n",
    "- input : a four dimension tensor representing the input:  [batch_size, height, width, channels]\n",
    "- filter: a four dimension tensor representing the convolution window: [height, width, in_channels, out_channels]\n",
    "- stride: a four element list: [batch_stride, height_stride, width_stride, channels_stride]. \n",
    "- padding: it can be 'SAME' o 'VALID'. Specifies the behaviour of the filter near the edges"
   ]
  },
  {
   "cell_type": "code",
   "execution_count": 37,
   "metadata": {},
   "outputs": [],
   "source": [
    "X = tf.constant([\n",
    "    [\n",
    "    [[1, 1], [2, 2], [3, 3], [4, 4]],\n",
    "    [[4, 4], [3, 3], [2, 3], [1, 1]],\n",
    "    [[5, 5], [6, 6], [7, 7], [8, 8]],\n",
    "    [[8, 8], [7, 7], [6, 6], [5, 5]]\n",
    "    ]\n",
    "], dtype=tf.float32)\n",
    "\n",
    "X_FILTER = tf.constant([\n",
    "    [\n",
    "        [[0.5], [0.5]], [[1], [1]]\n",
    "    ],\n",
    "    [\n",
    "        [[0.5], [0.5]], [[1], [1]]\n",
    "    ]\n",
    "], dtype=tf.float32)\n",
    "\n",
    "\n",
    "# Stride  batch, height, width, channel\n",
    "X_STRIDE = [1, 1, 1, 1]\n",
    "# Valid, Same... same padds with 0's\n",
    "X_PADDING = 'VALID'\n",
    "\n",
    "X_CONV = tf.nn.conv2d(\n",
    "    input=X,\n",
    "    filter=X_FILTER,\n",
    "    strides=X_STRIDE,\n",
    "    padding=X_PADDING\n",
    ")"
   ]
  },
  {
   "cell_type": "markdown",
   "metadata": {},
   "source": [
    "Pooling operation"
   ]
  },
  {
   "cell_type": "code",
   "execution_count": 38,
   "metadata": {},
   "outputs": [],
   "source": [
    "# Batch lenght, height, width, channels\n",
    "X_KSIZE = [1, 2, 2, 1]\n",
    "X_STRIDE = [1, 2, 2, 1]\n",
    "\n",
    "X_POOL = tf.nn.max_pool(\n",
    "    value=X,\n",
    "    ksize=X_KSIZE,\n",
    "    strides=X_STRIDE,\n",
    "    padding=X_PADDING\n",
    ")"
   ]
  },
  {
   "cell_type": "markdown",
   "metadata": {},
   "source": [
    "Variable initialization and evaluation"
   ]
  },
  {
   "cell_type": "code",
   "execution_count": 39,
   "metadata": {},
   "outputs": [
    {
     "name": "stdout",
     "output_type": "stream",
     "text": [
      "Filter\n",
      "[[[[0.5]\n",
      "   [0.5]]\n",
      "\n",
      "  [[1. ]\n",
      "   [1. ]]]\n",
      "\n",
      "\n",
      " [[[0.5]\n",
      "   [0.5]]\n",
      "\n",
      "  [[1. ]\n",
      "   [1. ]]]]\n",
      "X\n",
      "[[[[1. 1.]\n",
      "   [2. 2.]\n",
      "   [3. 3.]\n",
      "   [4. 4.]]\n",
      "\n",
      "  [[4. 4.]\n",
      "   [3. 3.]\n",
      "   [2. 3.]\n",
      "   [1. 1.]]\n",
      "\n",
      "  [[5. 5.]\n",
      "   [6. 6.]\n",
      "   [7. 7.]\n",
      "   [8. 8.]]\n",
      "\n",
      "  [[8. 8.]\n",
      "   [7. 7.]\n",
      "   [6. 6.]\n",
      "   [5. 5.]]]]\n",
      "Convolution\n",
      "[[[[15. ]\n",
      "   [16. ]\n",
      "   [15.5]]\n",
      "\n",
      "  [[27. ]\n",
      "   [28. ]\n",
      "   [27.5]]\n",
      "\n",
      "  [[39. ]\n",
      "   [39. ]\n",
      "   [39. ]]]]\n",
      "Pooling\n",
      "[[[[4. 4.]\n",
      "   [4. 4.]]\n",
      "\n",
      "  [[8. 8.]\n",
      "   [8. 8.]]]]\n"
     ]
    }
   ],
   "source": [
    "# EVAL\n",
    "(X_FILTER_EVAL,\n",
    " X_EVAL,\n",
    " X_CONV_EVAL,\n",
    " X_POOL_EVAL) = sess.run([X_FILTER, X, X_CONV, X_POOL])\n",
    "\n",
    "# Print\n",
    "print('Filter')\n",
    "print(X_FILTER_EVAL)\n",
    "print('X')\n",
    "print(X_EVAL)\n",
    "print('Convolution')\n",
    "print(X_CONV_EVAL)\n",
    "print('Pooling')\n",
    "print(X_POOL_EVAL)\n",
    "#\n",
    "sess.close()"
   ]
  },
  {
   "cell_type": "code",
   "execution_count": null,
   "metadata": {},
   "outputs": [],
   "source": []
  }
 ],
 "metadata": {
  "kernelspec": {
   "display_name": "Python 3",
   "language": "python",
   "name": "python3"
  },
  "language_info": {
   "codemirror_mode": {
    "name": "ipython",
    "version": 3
   },
   "file_extension": ".py",
   "mimetype": "text/x-python",
   "name": "python",
   "nbconvert_exporter": "python",
   "pygments_lexer": "ipython3",
   "version": "3.6.6"
  }
 },
 "nbformat": 4,
 "nbformat_minor": 2
}
